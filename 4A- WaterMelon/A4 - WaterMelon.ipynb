{
 "cells": [
  {
   "attachments": {},
   "cell_type": "markdown",
   "metadata": {},
   "source": [
    "## A4. Watermelon\n",
    "time limit per test1 second\n",
    "memory limit per test64 megabytes\n",
    "inputstandard input\n",
    "outputstandard output\n",
    "One hot summer day Pete and his friend Billy decided to buy a watermelon. They chose the biggest and the ripest one, in their opinion. After that the watermelon was weighed, and the scales showed w kilos. They rushed home, dying of thirst, and decided to divide the berry, however they faced a hard problem.\n",
    "\n",
    "Pete and Billy are great fans of even numbers, that's why they want to divide the watermelon in such a way that each of the two parts weighs even number of kilos, at the same time it is not obligatory that the parts are equal. The boys are extremely tired and want to start their meal as soon as possible, that's why you should help them and find out, if they can divide the watermelon in the way they want. For sure, each of them should get a part of positive weight.\n",
    "\n",
    "*Input* <br>\n",
    "The first (and the only) input line contains integer number **w (1 ≤ w ≤ 100)** — the weight of the watermelon bought by the boys.\n",
    "\n",
    "*Output* <br>\n",
    "Print **YES**, if the boys can divide the watermelon into two parts, each of them weighing even number of kilos; and **NO** in the opposite case.<br>\n",
    "Link: https://codeforces.com/problemset/problem/4/A"
   ]
  },
  {
   "cell_type": "code",
   "execution_count": 2,
   "metadata": {},
   "outputs": [],
   "source": [
    "#water melon problem \n",
    "\n",
    "w = input(\"Please Enter Weight of the water Melon: \")#weight of water melon\n",
    "if w.isnumeric() : # check if input is alphanumeric\n",
    "    w=float(w) # convert input to float\n",
    "    if w in range(1,101): # check if input is between 1 and 100 ⁡\n",
    "        if w % 2 == 0 and w != 2: # check if input is evens \n",
    "            #! Note W != 2 is important as 2 is the only even number that is not divisible to even numbers\n",
    "            print(\"YES\") # print YES if input is even\n",
    "        else:\n",
    "            print(\"NO\") # print NO if input is odd\n",
    "    else:\n",
    "        print(\"Weight is must be between 1 and 100\")         \n",
    "else:\n",
    "    print(\"Invalid input\")                \n"
   ]
  }
 ],
 "metadata": {
  "kernelspec": {
   "display_name": "base",
   "language": "python",
   "name": "python3"
  },
  "language_info": {
   "codemirror_mode": {
    "name": "ipython",
    "version": 3
   },
   "file_extension": ".py",
   "mimetype": "text/x-python",
   "name": "python",
   "nbconvert_exporter": "python",
   "pygments_lexer": "ipython3",
   "version": "3.8.8"
  },
  "orig_nbformat": 4,
  "vscode": {
   "interpreter": {
    "hash": "090233f98f2c95ed92d7dd5c4a00be1b5fa0b19e34f3fc20836a9072d807a5a0"
   }
  }
 },
 "nbformat": 4,
 "nbformat_minor": 2
}
