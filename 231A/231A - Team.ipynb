{
 "cells": [
  {
   "attachments": {},
   "cell_type": "markdown",
   "metadata": {},
   "source": [
    "### **231A**"
   ]
  },
  {
   "attachments": {},
   "cell_type": "markdown",
   "metadata": {},
   "source": [
    "A. Team<br>\n",
    "time limit per test2 seconds <br>\n",
    "memory limit per test256 megabytes <br>\n",
    "\n",
    "One day three best friends Petya, Vasya and Tonya decided to form a team and take part in programming contests. Participants are usually offered several problems during programming contests. Long before the start the friends decided that they will implement a problem if at least two of them are sure about the solution. Otherwise, the friends won't write the problem's solution.\n",
    "\n",
    "This contest offers n problems to the participants. For each problem we know, which friend is sure about the solution. Help the friends find the number of problems for which they will write a solution.\n",
    "\n",
    "**Input**<br>\n",
    "The first input line contains a single integer n (1 ≤ n ≤ 1000) — the number of problems in the contest. Then n lines contain three integers each, each integer is either 0 or 1. If the first number in the line equals 1, then Petya is sure about the problem's solution, otherwise he isn't sure. The second number shows Vasya's view on the solution, the third number shows Tonya's view. The numbers on the lines are separated by spaces.\n",
    "\n",
    "**Output**<br>\n",
    "Print a single integer — the number of problems the friends will implement on the contest.\n",
    "\n",
    "Link : https://codeforces.com/problemset/problem/231/A"
   ]
  },
  {
   "cell_type": "code",
   "execution_count": 2,
   "metadata": {},
   "outputs": [],
   "source": [
    "#first get number of problems\n",
    "n= input()\n",
    "assert n.isdigit(), \"n must be an integer\" #check if n is an integer\n",
    "n=int(n) #convert to integer\n",
    "count=0 #counters for problems solved\n",
    "\n",
    "#####################################\n",
    "for i in range(n):\n",
    "    \n",
    "    l=input()  #get input\n",
    "    if l.count(\"1\")>=2: #check if there are at least 2 1's\n",
    "        count+=1\n",
    "print(count)            \n",
    "        \n",
    "        \n",
    "        \n",
    "\n",
    "        \n",
    "    \n",
    "\n"
   ]
  }
 ],
 "metadata": {
  "kernelspec": {
   "display_name": "base",
   "language": "python",
   "name": "python3"
  },
  "language_info": {
   "codemirror_mode": {
    "name": "ipython",
    "version": 3
   },
   "file_extension": ".py",
   "mimetype": "text/x-python",
   "name": "python",
   "nbconvert_exporter": "python",
   "pygments_lexer": "ipython3",
   "version": "3.8.8"
  },
  "orig_nbformat": 4,
  "vscode": {
   "interpreter": {
    "hash": "090233f98f2c95ed92d7dd5c4a00be1b5fa0b19e34f3fc20836a9072d807a5a0"
   }
  }
 },
 "nbformat": 4,
 "nbformat_minor": 2
}
