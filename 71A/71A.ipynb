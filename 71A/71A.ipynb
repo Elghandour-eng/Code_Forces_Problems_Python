{
 "cells": [
  {
   "attachments": {},
   "cell_type": "markdown",
   "metadata": {},
   "source": [
    "### **71A**"
   ]
  },
  {
   "attachments": {},
   "cell_type": "markdown",
   "metadata": {},
   "source": [
    "Sometimes some words like **\"localization\"** or **\"internationalization\"** are so long that writing them many times in one text is quite tiresome.\n",
    "\n",
    "Let's consider a word too long, if its length is strictly **more than 10 characters**.<br> All too long words should be replaced with a **special abbreviation**.\n",
    "\n",
    "This abbreviation is made like this: we write down the first and the last letter of a word and between them we write the number of letters between the first and the last letters. That number is in decimal system and doesn't contain any leading zeroes.\n",
    "\n",
    "Thus, \"localization\" will be spelt as \"l10n\", and \"internationalization» will be spelt as \"i18n\".\n",
    "\n",
    "You are suggested to automatize the process of changing the words with abbreviations. At that all too long words should be replaced by the abbreviation and the words that are not too long should not undergo any changes.\n",
    "\n",
    "*Input* <br>\n",
    "The first line contains an integer n (1 ≤ n ≤ 100). Each of the following n lines contains one word. All the words consist of lowercase Latin letters and possess the lengths of from 1 to 100 characters.\n",
    "\n",
    "*Output* <br>\n",
    "Print n lines. The i-th line should contain the result of replacing of the i-th word from the input data"
   ]
  },
  {
   "cell_type": "code",
   "execution_count": 7,
   "metadata": {},
   "outputs": [
    {
     "name": "stdout",
     "output_type": "stream",
     "text": [
      "l10n\n"
     ]
    }
   ],
   "source": [
    "lines= input(\"\") # number of lines \n",
    "words = [] # list of words\n",
    "if lines.isnumeric():\n",
    "    \n",
    "    lines = int(lines)\n",
    "    assert lines in range(1,101) , \"Lines Must be between 1 and 100\" # number of lines must be between 1 and 100\n",
    "    for i in range(1, lines+1):\n",
    "        word = input(\"\") # input a word\n",
    "        length =len(word)  #get the length of the word\n",
    "\n",
    "        if length in range (1,101):\n",
    "            if word.isalpha(): #check if the word is only latin letters\n",
    "                word =word.lower() #convert to lower case\n",
    "                if length > 10:\n",
    "                    words.append(word[0]+str(length-2)+word[length-1]) #print the first letter, the length of the word minus 2, and the last letter\n",
    "                else :\n",
    "                    words.append(word)     \n",
    "            else :\n",
    "                print(\"Word must be only letters\")     #Word must be only letters\n",
    "                exit()\n",
    "    \n",
    "        else :\n",
    "            print(\"Word Must be between 1 and 100 characters long\")\n",
    "\n",
    "\n",
    "# print the words\n",
    "print(\"\\n\".join(words))            \n",
    "        \n"
   ]
  }
 ],
 "metadata": {
  "kernelspec": {
   "display_name": "base",
   "language": "python",
   "name": "python3"
  },
  "language_info": {
   "codemirror_mode": {
    "name": "ipython",
    "version": 3
   },
   "file_extension": ".py",
   "mimetype": "text/x-python",
   "name": "python",
   "nbconvert_exporter": "python",
   "pygments_lexer": "ipython3",
   "version": "3.8.8"
  },
  "orig_nbformat": 4,
  "vscode": {
   "interpreter": {
    "hash": "090233f98f2c95ed92d7dd5c4a00be1b5fa0b19e34f3fc20836a9072d807a5a0"
   }
  }
 },
 "nbformat": 4,
 "nbformat_minor": 2
}
